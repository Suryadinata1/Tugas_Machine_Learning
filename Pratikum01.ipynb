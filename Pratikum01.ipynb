{
  "nbformat": 4,
  "nbformat_minor": 0,
  "metadata": {
    "colab": {
      "name": "Pratikum01.ipynb",
      "provenance": [],
      "mount_file_id": "1TJlyfSmTIMfflqn449Ih9I_R2x76WA80",
      "authorship_tag": "ABX9TyMPCdYlJGf0ZnYezAIUb4QV",
      "include_colab_link": true
    },
    "kernelspec": {
      "name": "python3",
      "display_name": "Python 3"
    }
  },
  "cells": [
    {
      "cell_type": "markdown",
      "metadata": {
        "id": "view-in-github",
        "colab_type": "text"
      },
      "source": [
        "<a href=\"https://colab.research.google.com/github/Suryadinata1/Tugas_Machine_Learning/blob/main/Pratikum01.ipynb\" target=\"_parent\"><img src=\"https://colab.research.google.com/assets/colab-badge.svg\" alt=\"Open In Colab\"/></a>"
      ]
    },
    {
      "cell_type": "code",
      "metadata": {
        "id": "zoCaM8zV7pQt",
        "outputId": "cce5a567-9c57-4848-cbfe-12bcc049fbea",
        "colab": {
          "base_uri": "https://localhost:8080/",
          "height": 419
        }
      },
      "source": [
        "import pandas as pd \n",
        "path=\"/content/drive/My Drive/proyeksi-penduduk-2010-2035.csv\"\n",
        "dataset=pd.read_csv(path)\n",
        "dataset"
      ],
      "execution_count": 15,
      "outputs": [
        {
          "output_type": "execute_result",
          "data": {
            "text/html": [
              "<div>\n",
              "<style scoped>\n",
              "    .dataframe tbody tr th:only-of-type {\n",
              "        vertical-align: middle;\n",
              "    }\n",
              "\n",
              "    .dataframe tbody tr th {\n",
              "        vertical-align: top;\n",
              "    }\n",
              "\n",
              "    .dataframe thead th {\n",
              "        text-align: right;\n",
              "    }\n",
              "</style>\n",
              "<table border=\"1\" class=\"dataframe\">\n",
              "  <thead>\n",
              "    <tr style=\"text-align: right;\">\n",
              "      <th></th>\n",
              "      <th>kode</th>\n",
              "      <th>propinsi</th>\n",
              "      <th>tahun</th>\n",
              "      <th>kelamin</th>\n",
              "      <th>jumlah</th>\n",
              "    </tr>\n",
              "  </thead>\n",
              "  <tbody>\n",
              "    <tr>\n",
              "      <th>0</th>\n",
              "      <td>11</td>\n",
              "      <td>Aceh</td>\n",
              "      <td>2010</td>\n",
              "      <td>L</td>\n",
              "      <td>2255.0</td>\n",
              "    </tr>\n",
              "    <tr>\n",
              "      <th>1</th>\n",
              "      <td>11</td>\n",
              "      <td>Aceh</td>\n",
              "      <td>2010</td>\n",
              "      <td>P</td>\n",
              "      <td>2268.1</td>\n",
              "    </tr>\n",
              "    <tr>\n",
              "      <th>2</th>\n",
              "      <td>11</td>\n",
              "      <td>Aceh</td>\n",
              "      <td>2015</td>\n",
              "      <td>L</td>\n",
              "      <td>2497.5</td>\n",
              "    </tr>\n",
              "    <tr>\n",
              "      <th>3</th>\n",
              "      <td>11</td>\n",
              "      <td>Aceh</td>\n",
              "      <td>2015</td>\n",
              "      <td>P</td>\n",
              "      <td>2504.5</td>\n",
              "    </tr>\n",
              "    <tr>\n",
              "      <th>4</th>\n",
              "      <td>11</td>\n",
              "      <td>Aceh</td>\n",
              "      <td>2020</td>\n",
              "      <td>L</td>\n",
              "      <td>2728.2</td>\n",
              "    </tr>\n",
              "    <tr>\n",
              "      <th>...</th>\n",
              "      <td>...</td>\n",
              "      <td>...</td>\n",
              "      <td>...</td>\n",
              "      <td>...</td>\n",
              "      <td>...</td>\n",
              "    </tr>\n",
              "    <tr>\n",
              "      <th>391</th>\n",
              "      <td>94</td>\n",
              "      <td>Papua</td>\n",
              "      <td>2025</td>\n",
              "      <td>P</td>\n",
              "      <td>1770.3</td>\n",
              "    </tr>\n",
              "    <tr>\n",
              "      <th>392</th>\n",
              "      <td>94</td>\n",
              "      <td>Papua</td>\n",
              "      <td>2030</td>\n",
              "      <td>L</td>\n",
              "      <td>2044.3</td>\n",
              "    </tr>\n",
              "    <tr>\n",
              "      <th>393</th>\n",
              "      <td>94</td>\n",
              "      <td>Papua</td>\n",
              "      <td>2030</td>\n",
              "      <td>P</td>\n",
              "      <td>1895.1</td>\n",
              "    </tr>\n",
              "    <tr>\n",
              "      <th>394</th>\n",
              "      <td>94</td>\n",
              "      <td>Papua</td>\n",
              "      <td>2035</td>\n",
              "      <td>L</td>\n",
              "      <td>2139.1</td>\n",
              "    </tr>\n",
              "    <tr>\n",
              "      <th>395</th>\n",
              "      <td>94</td>\n",
              "      <td>Papua</td>\n",
              "      <td>2035</td>\n",
              "      <td>P</td>\n",
              "      <td>2005.5</td>\n",
              "    </tr>\n",
              "  </tbody>\n",
              "</table>\n",
              "<p>396 rows × 5 columns</p>\n",
              "</div>"
            ],
            "text/plain": [
              "     kode propinsi  tahun kelamin  jumlah\n",
              "0      11     Aceh   2010       L  2255.0\n",
              "1      11     Aceh   2010       P  2268.1\n",
              "2      11     Aceh   2015       L  2497.5\n",
              "3      11     Aceh   2015       P  2504.5\n",
              "4      11     Aceh   2020       L  2728.2\n",
              "..    ...      ...    ...     ...     ...\n",
              "391    94    Papua   2025       P  1770.3\n",
              "392    94    Papua   2030       L  2044.3\n",
              "393    94    Papua   2030       P  1895.1\n",
              "394    94    Papua   2035       L  2139.1\n",
              "395    94    Papua   2035       P  2005.5\n",
              "\n",
              "[396 rows x 5 columns]"
            ]
          },
          "metadata": {
            "tags": []
          },
          "execution_count": 15
        }
      ]
    },
    {
      "cell_type": "code",
      "metadata": {
        "id": "EgxiXJQGBkNW",
        "outputId": "95645707-19de-43ba-993a-42ae26bdc317",
        "colab": {
          "base_uri": "https://localhost:8080/",
          "height": 204
        }
      },
      "source": [
        "dataset.head()"
      ],
      "execution_count": 16,
      "outputs": [
        {
          "output_type": "execute_result",
          "data": {
            "text/html": [
              "<div>\n",
              "<style scoped>\n",
              "    .dataframe tbody tr th:only-of-type {\n",
              "        vertical-align: middle;\n",
              "    }\n",
              "\n",
              "    .dataframe tbody tr th {\n",
              "        vertical-align: top;\n",
              "    }\n",
              "\n",
              "    .dataframe thead th {\n",
              "        text-align: right;\n",
              "    }\n",
              "</style>\n",
              "<table border=\"1\" class=\"dataframe\">\n",
              "  <thead>\n",
              "    <tr style=\"text-align: right;\">\n",
              "      <th></th>\n",
              "      <th>kode</th>\n",
              "      <th>propinsi</th>\n",
              "      <th>tahun</th>\n",
              "      <th>kelamin</th>\n",
              "      <th>jumlah</th>\n",
              "    </tr>\n",
              "  </thead>\n",
              "  <tbody>\n",
              "    <tr>\n",
              "      <th>0</th>\n",
              "      <td>11</td>\n",
              "      <td>Aceh</td>\n",
              "      <td>2010</td>\n",
              "      <td>L</td>\n",
              "      <td>2255.0</td>\n",
              "    </tr>\n",
              "    <tr>\n",
              "      <th>1</th>\n",
              "      <td>11</td>\n",
              "      <td>Aceh</td>\n",
              "      <td>2010</td>\n",
              "      <td>P</td>\n",
              "      <td>2268.1</td>\n",
              "    </tr>\n",
              "    <tr>\n",
              "      <th>2</th>\n",
              "      <td>11</td>\n",
              "      <td>Aceh</td>\n",
              "      <td>2015</td>\n",
              "      <td>L</td>\n",
              "      <td>2497.5</td>\n",
              "    </tr>\n",
              "    <tr>\n",
              "      <th>3</th>\n",
              "      <td>11</td>\n",
              "      <td>Aceh</td>\n",
              "      <td>2015</td>\n",
              "      <td>P</td>\n",
              "      <td>2504.5</td>\n",
              "    </tr>\n",
              "    <tr>\n",
              "      <th>4</th>\n",
              "      <td>11</td>\n",
              "      <td>Aceh</td>\n",
              "      <td>2020</td>\n",
              "      <td>L</td>\n",
              "      <td>2728.2</td>\n",
              "    </tr>\n",
              "  </tbody>\n",
              "</table>\n",
              "</div>"
            ],
            "text/plain": [
              "   kode propinsi  tahun kelamin  jumlah\n",
              "0    11     Aceh   2010       L  2255.0\n",
              "1    11     Aceh   2010       P  2268.1\n",
              "2    11     Aceh   2015       L  2497.5\n",
              "3    11     Aceh   2015       P  2504.5\n",
              "4    11     Aceh   2020       L  2728.2"
            ]
          },
          "metadata": {
            "tags": []
          },
          "execution_count": 16
        }
      ]
    },
    {
      "cell_type": "code",
      "metadata": {
        "id": "FM1Gl8ysBwvT",
        "outputId": "5f8ca5e5-8f5b-4f7a-8a0f-ae5ea1e94c04",
        "colab": {
          "base_uri": "https://localhost:8080/",
          "height": 34
        }
      },
      "source": [
        "dataset.shape"
      ],
      "execution_count": 17,
      "outputs": [
        {
          "output_type": "execute_result",
          "data": {
            "text/plain": [
              "(396, 5)"
            ]
          },
          "metadata": {
            "tags": []
          },
          "execution_count": 17
        }
      ]
    },
    {
      "cell_type": "code",
      "metadata": {
        "id": "8IVWIYfzB0ca",
        "outputId": "ac0b23c5-7e28-4222-9dde-66e62fd52193",
        "colab": {
          "base_uri": "https://localhost:8080/",
          "height": 119
        }
      },
      "source": [
        "dataset.isnull() .sum()"
      ],
      "execution_count": 19,
      "outputs": [
        {
          "output_type": "execute_result",
          "data": {
            "text/plain": [
              "kode        0\n",
              "propinsi    0\n",
              "tahun       0\n",
              "kelamin     0\n",
              "jumlah      0\n",
              "dtype: int64"
            ]
          },
          "metadata": {
            "tags": []
          },
          "execution_count": 19
        }
      ]
    },
    {
      "cell_type": "code",
      "metadata": {
        "id": "QUbOfnuBCJTp",
        "outputId": "5f052546-5dd0-4dc2-8ec0-f932fb51a582",
        "colab": {
          "base_uri": "https://localhost:8080/",
          "height": 119
        }
      },
      "source": [
        "dataset.max()"
      ],
      "execution_count": 20,
      "outputs": [
        {
          "output_type": "execute_result",
          "data": {
            "text/plain": [
              "kode                    94\n",
              "propinsi    Sumatera Utara\n",
              "tahun                 2035\n",
              "kelamin                  P\n",
              "jumlah             28688.9\n",
              "dtype: object"
            ]
          },
          "metadata": {
            "tags": []
          },
          "execution_count": 20
        }
      ]
    },
    {
      "cell_type": "code",
      "metadata": {
        "id": "ZwZq2rhdCPuB",
        "outputId": "285e60f2-1858-4b40-d710-ee793a193ae2",
        "colab": {
          "base_uri": "https://localhost:8080/",
          "height": 119
        }
      },
      "source": [
        "dataset.min()"
      ],
      "execution_count": 21,
      "outputs": [
        {
          "output_type": "execute_result",
          "data": {
            "text/plain": [
              "kode          11\n",
              "propinsi    Aceh\n",
              "tahun       2010\n",
              "kelamin        L\n",
              "jumlah       361\n",
              "dtype: object"
            ]
          },
          "metadata": {
            "tags": []
          },
          "execution_count": 21
        }
      ]
    },
    {
      "cell_type": "code",
      "metadata": {
        "id": "OhOIz4G-CUoA",
        "outputId": "c9b079df-dfa0-4c21-8118-1be222f38311",
        "colab": {
          "base_uri": "https://localhost:8080/",
          "height": 297
        }
      },
      "source": [
        "dataset.describe()"
      ],
      "execution_count": 22,
      "outputs": [
        {
          "output_type": "execute_result",
          "data": {
            "text/html": [
              "<div>\n",
              "<style scoped>\n",
              "    .dataframe tbody tr th:only-of-type {\n",
              "        vertical-align: middle;\n",
              "    }\n",
              "\n",
              "    .dataframe tbody tr th {\n",
              "        vertical-align: top;\n",
              "    }\n",
              "\n",
              "    .dataframe thead th {\n",
              "        text-align: right;\n",
              "    }\n",
              "</style>\n",
              "<table border=\"1\" class=\"dataframe\">\n",
              "  <thead>\n",
              "    <tr style=\"text-align: right;\">\n",
              "      <th></th>\n",
              "      <th>kode</th>\n",
              "      <th>tahun</th>\n",
              "      <th>jumlah</th>\n",
              "    </tr>\n",
              "  </thead>\n",
              "  <tbody>\n",
              "    <tr>\n",
              "      <th>count</th>\n",
              "      <td>396.000000</td>\n",
              "      <td>396.000000</td>\n",
              "      <td>396.000000</td>\n",
              "    </tr>\n",
              "    <tr>\n",
              "      <th>mean</th>\n",
              "      <td>47.030303</td>\n",
              "      <td>2022.500000</td>\n",
              "      <td>4171.548990</td>\n",
              "    </tr>\n",
              "    <tr>\n",
              "      <th>std</th>\n",
              "      <td>26.354719</td>\n",
              "      <td>8.549928</td>\n",
              "      <td>5692.124431</td>\n",
              "    </tr>\n",
              "    <tr>\n",
              "      <th>min</th>\n",
              "      <td>11.000000</td>\n",
              "      <td>2010.000000</td>\n",
              "      <td>361.000000</td>\n",
              "    </tr>\n",
              "    <tr>\n",
              "      <th>25%</th>\n",
              "      <td>19.000000</td>\n",
              "      <td>2015.000000</td>\n",
              "      <td>1232.825000</td>\n",
              "    </tr>\n",
              "    <tr>\n",
              "      <th>50%</th>\n",
              "      <td>51.000000</td>\n",
              "      <td>2022.500000</td>\n",
              "      <td>2201.100000</td>\n",
              "    </tr>\n",
              "    <tr>\n",
              "      <th>75%</th>\n",
              "      <td>72.000000</td>\n",
              "      <td>2030.000000</td>\n",
              "      <td>4219.375000</td>\n",
              "    </tr>\n",
              "    <tr>\n",
              "      <th>max</th>\n",
              "      <td>94.000000</td>\n",
              "      <td>2035.000000</td>\n",
              "      <td>28688.900000</td>\n",
              "    </tr>\n",
              "  </tbody>\n",
              "</table>\n",
              "</div>"
            ],
            "text/plain": [
              "             kode        tahun        jumlah\n",
              "count  396.000000   396.000000    396.000000\n",
              "mean    47.030303  2022.500000   4171.548990\n",
              "std     26.354719     8.549928   5692.124431\n",
              "min     11.000000  2010.000000    361.000000\n",
              "25%     19.000000  2015.000000   1232.825000\n",
              "50%     51.000000  2022.500000   2201.100000\n",
              "75%     72.000000  2030.000000   4219.375000\n",
              "max     94.000000  2035.000000  28688.900000"
            ]
          },
          "metadata": {
            "tags": []
          },
          "execution_count": 22
        }
      ]
    },
    {
      "cell_type": "code",
      "metadata": {
        "id": "YqqQCVYACdBY"
      },
      "source": [
        "data=dataset.dropna()"
      ],
      "execution_count": 23,
      "outputs": []
    },
    {
      "cell_type": "code",
      "metadata": {
        "id": "bWAh-BJRCn-_",
        "outputId": "fbb419fb-ec09-4477-b994-c89f0eb1f016",
        "colab": {
          "base_uri": "https://localhost:8080/",
          "height": 34
        }
      },
      "source": [
        "data.shape"
      ],
      "execution_count": 24,
      "outputs": [
        {
          "output_type": "execute_result",
          "data": {
            "text/plain": [
              "(396, 5)"
            ]
          },
          "metadata": {
            "tags": []
          },
          "execution_count": 24
        }
      ]
    },
    {
      "cell_type": "code",
      "metadata": {
        "id": "unNk1ROfCxFe"
      },
      "source": [
        "dataset.dropna(axis=0,subset=['kode','tahun','jumlah'],inplace=True)"
      ],
      "execution_count": 32,
      "outputs": []
    },
    {
      "cell_type": "code",
      "metadata": {
        "id": "fDgZTUgMEufs",
        "outputId": "a5ee8961-4373-49d2-ba1b-055931616851",
        "colab": {
          "base_uri": "https://localhost:8080/",
          "height": 34
        }
      },
      "source": [
        "dataset.shape"
      ],
      "execution_count": 33,
      "outputs": [
        {
          "output_type": "execute_result",
          "data": {
            "text/plain": [
              "(396, 5)"
            ]
          },
          "metadata": {
            "tags": []
          },
          "execution_count": 33
        }
      ]
    },
    {
      "cell_type": "code",
      "metadata": {
        "id": "_3TEncdgE0d4",
        "outputId": "e01a4a96-b76e-4ae3-d3e5-770f87752518",
        "colab": {
          "base_uri": "https://localhost:8080/",
          "height": 221
        }
      },
      "source": [
        "#Memilih target prediksi (prediction target)\n",
        "y=data['tahun']\n",
        "y"
      ],
      "execution_count": 35,
      "outputs": [
        {
          "output_type": "execute_result",
          "data": {
            "text/plain": [
              "0      2010\n",
              "1      2010\n",
              "2      2015\n",
              "3      2015\n",
              "4      2020\n",
              "       ... \n",
              "391    2025\n",
              "392    2030\n",
              "393    2030\n",
              "394    2035\n",
              "395    2035\n",
              "Name: tahun, Length: 396, dtype: int64"
            ]
          },
          "metadata": {
            "tags": []
          },
          "execution_count": 35
        }
      ]
    },
    {
      "cell_type": "code",
      "metadata": {
        "id": "f3Dt-2MEFrdu",
        "outputId": "dd3a94f8-d52e-4224-fc2a-22260f6bc500",
        "colab": {
          "base_uri": "https://localhost:8080/",
          "height": 419
        }
      },
      "source": [
        "#Mmemilih fitur (Feature selection)\n",
        "fitur=['kode','kelamin']\n",
        "X=data[fitur]\n",
        "X"
      ],
      "execution_count": 44,
      "outputs": [
        {
          "output_type": "execute_result",
          "data": {
            "text/html": [
              "<div>\n",
              "<style scoped>\n",
              "    .dataframe tbody tr th:only-of-type {\n",
              "        vertical-align: middle;\n",
              "    }\n",
              "\n",
              "    .dataframe tbody tr th {\n",
              "        vertical-align: top;\n",
              "    }\n",
              "\n",
              "    .dataframe thead th {\n",
              "        text-align: right;\n",
              "    }\n",
              "</style>\n",
              "<table border=\"1\" class=\"dataframe\">\n",
              "  <thead>\n",
              "    <tr style=\"text-align: right;\">\n",
              "      <th></th>\n",
              "      <th>kode</th>\n",
              "      <th>kelamin</th>\n",
              "    </tr>\n",
              "  </thead>\n",
              "  <tbody>\n",
              "    <tr>\n",
              "      <th>0</th>\n",
              "      <td>11</td>\n",
              "      <td>L</td>\n",
              "    </tr>\n",
              "    <tr>\n",
              "      <th>1</th>\n",
              "      <td>11</td>\n",
              "      <td>P</td>\n",
              "    </tr>\n",
              "    <tr>\n",
              "      <th>2</th>\n",
              "      <td>11</td>\n",
              "      <td>L</td>\n",
              "    </tr>\n",
              "    <tr>\n",
              "      <th>3</th>\n",
              "      <td>11</td>\n",
              "      <td>P</td>\n",
              "    </tr>\n",
              "    <tr>\n",
              "      <th>4</th>\n",
              "      <td>11</td>\n",
              "      <td>L</td>\n",
              "    </tr>\n",
              "    <tr>\n",
              "      <th>...</th>\n",
              "      <td>...</td>\n",
              "      <td>...</td>\n",
              "    </tr>\n",
              "    <tr>\n",
              "      <th>391</th>\n",
              "      <td>94</td>\n",
              "      <td>P</td>\n",
              "    </tr>\n",
              "    <tr>\n",
              "      <th>392</th>\n",
              "      <td>94</td>\n",
              "      <td>L</td>\n",
              "    </tr>\n",
              "    <tr>\n",
              "      <th>393</th>\n",
              "      <td>94</td>\n",
              "      <td>P</td>\n",
              "    </tr>\n",
              "    <tr>\n",
              "      <th>394</th>\n",
              "      <td>94</td>\n",
              "      <td>L</td>\n",
              "    </tr>\n",
              "    <tr>\n",
              "      <th>395</th>\n",
              "      <td>94</td>\n",
              "      <td>P</td>\n",
              "    </tr>\n",
              "  </tbody>\n",
              "</table>\n",
              "<p>396 rows × 2 columns</p>\n",
              "</div>"
            ],
            "text/plain": [
              "     kode kelamin\n",
              "0      11       L\n",
              "1      11       P\n",
              "2      11       L\n",
              "3      11       P\n",
              "4      11       L\n",
              "..    ...     ...\n",
              "391    94       P\n",
              "392    94       L\n",
              "393    94       P\n",
              "394    94       L\n",
              "395    94       P\n",
              "\n",
              "[396 rows x 2 columns]"
            ]
          },
          "metadata": {
            "tags": []
          },
          "execution_count": 44
        }
      ]
    }
  ]
}