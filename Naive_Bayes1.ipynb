{
  "nbformat": 4,
  "nbformat_minor": 0,
  "metadata": {
    "colab": {
      "name": "Naive_Bayes1.ipynb",
      "provenance": [],
      "collapsed_sections": [],
      "authorship_tag": "ABX9TyOwS6V556lIU52sXAcQWgvR",
      "include_colab_link": true
    },
    "kernelspec": {
      "name": "python3",
      "display_name": "Python 3"
    }
  },
  "cells": [
    {
      "cell_type": "markdown",
      "metadata": {
        "id": "view-in-github",
        "colab_type": "text"
      },
      "source": [
        "<a href=\"https://colab.research.google.com/github/SuryadinataUCIC/Tugas_Machine_Learning/blob/main/Naive_Bayes1.ipynb\" target=\"_parent\"><img src=\"https://colab.research.google.com/assets/colab-badge.svg\" alt=\"Open In Colab\"/></a>"
      ]
    },
    {
      "cell_type": "code",
      "metadata": {
        "id": "wNEPnSwxquZY"
      },
      "source": [
        "#Dataset\r\n",
        "\r\n",
        "Outlook=['Sunny','Sunny','Overcast','Rain','Rain','Rain','Overcast','Sunny','Sunny','Rain','Sunny','Overcast','Overcast','Rain']\r\n",
        "Temperature=['Hot','Hot','Mild','Mild','Cool','Cool','Cool','Mild','Cool','Mild','Mild','Mild','Mild','Mild']\r\n",
        "Humidity=['High','High','High','High','Normal','Normal','Normal','High','Normal','Normal','Normal','High','Normal','High']\r\n",
        "Wind=['Weak','Strong','Weak','Weak','Weak','Strong','Strong','Weak','Weak','Weak','Strong','Strong','Weak','Strong']\r\n",
        "PlayTennis=['No','No','Yes','Yes','Yes','No','Yes','No','Yes','Yes','Yes','Yes','Yes','No']"
      ],
      "execution_count": null,
      "outputs": []
    },
    {
      "cell_type": "code",
      "metadata": {
        "colab": {
          "base_uri": "https://localhost:8080/"
        },
        "id": "qbjZWL0-q4Ls",
        "outputId": "87a85a83-2832-4a60-bb3e-818ab0f789ce"
      },
      "source": [
        "from sklearn import preprocessing\r\n",
        "label = preprocessing.LabelEncoder()\r\n",
        "Outlook_encoded=label.fit_transform(Outlook)#untuk 0 adalah Overcast,untuk 1 adalah Rain,untuk 2 adalah Sunny\r\n",
        "Temperature_encoded=label.fit_transform(Temperature)#untuk 0 adalah Cool,Untuk 1 adalah Hot,untuk 2 adalah Mild\r\n",
        "Humidity_encoded=label.fit_transform(Humidity)#untuk 0 adalah High,Untuk 1 adalah Normal\r\n",
        "Wind_encoded=label.fit_transform(Wind)#Untuk 0 adalah Strong ,Untuk 1 Adalah Weak\r\n",
        "PlayTennis_encoded=label.fit_transform(PlayTennis)#Untuk 0 Adalah No,Untuk 1 adalah Yes\r\n",
        "print(Outlook_encoded)\r\n",
        "print(Temperature_encoded)\r\n",
        "print(Humidity_encoded)\r\n",
        "print(Wind_encoded)\r\n",
        "print(PlayTennis_encoded)"
      ],
      "execution_count": null,
      "outputs": [
        {
          "output_type": "stream",
          "text": [
            "[2 2 0 1 1 1 0 2 2 1 2 0 0 1]\n",
            "[1 1 2 2 0 0 0 2 0 2 2 2 2 2]\n",
            "[0 0 0 0 1 1 1 0 1 1 1 0 1 0]\n",
            "[1 0 1 1 1 0 0 1 1 1 0 0 1 0]\n",
            "[0 0 1 1 1 0 1 0 1 1 1 1 1 0]\n"
          ],
          "name": "stdout"
        }
      ]
    },
    {
      "cell_type": "code",
      "metadata": {
        "colab": {
          "base_uri": "https://localhost:8080/"
        },
        "id": "RHCVlYrfq7Vy",
        "outputId": "c740b3eb-8254-490f-d33e-4f3ef55e830b"
      },
      "source": [
        "print(\"Outlook    :\",Outlook_encoded)\r\n",
        "print(\"Temperature:\",Temperature_encoded)\r\n",
        "print(\"Humidity   :\",Humidity_encoded)\r\n",
        "print(\"Wind       :\",Wind_encoded)\r\n",
        "print(\"Play Tennis:\",PlayTennis_encoded)#class"
      ],
      "execution_count": null,
      "outputs": [
        {
          "output_type": "stream",
          "text": [
            "Outlook    : [2 2 0 1 1 1 0 2 2 1 2 0 0 1]\n",
            "Temperature: [1 1 2 2 0 0 0 2 0 2 2 2 2 2]\n",
            "Humidity   : [0 0 0 0 1 1 1 0 1 1 1 0 1 0]\n",
            "Wind       : [1 0 1 1 1 0 0 1 1 1 0 0 1 0]\n",
            "Play Tennis: [0 0 1 1 1 0 1 0 1 1 1 1 1 0]\n"
          ],
          "name": "stdout"
        }
      ]
    },
    {
      "cell_type": "code",
      "metadata": {
        "colab": {
          "base_uri": "https://localhost:8080/"
        },
        "id": "f-nIMBLPq-fa",
        "outputId": "d05a28bb-c17a-4c26-fb0c-b5f9d2692e4a"
      },
      "source": [
        "features=zip(Outlook_encoded,Temperature_encoded,Humidity_encoded,Wind_encoded)\r\n",
        "features=list(features)\r\n",
        "print (tuple(features))"
      ],
      "execution_count": null,
      "outputs": [
        {
          "output_type": "stream",
          "text": [
            "((2, 1, 0, 1), (2, 1, 0, 0), (0, 2, 0, 1), (1, 2, 0, 1), (1, 0, 1, 1), (1, 0, 1, 0), (0, 0, 1, 0), (2, 2, 0, 1), (2, 0, 1, 1), (1, 2, 1, 1), (2, 2, 1, 0), (0, 2, 0, 0), (0, 2, 1, 1), (1, 2, 0, 0))\n"
          ],
          "name": "stdout"
        }
      ]
    },
    {
      "cell_type": "code",
      "metadata": {
        "colab": {
          "base_uri": "https://localhost:8080/"
        },
        "id": "eQvZc6qhrD4q",
        "outputId": "b984f254-a946-4901-984c-9779e6181697"
      },
      "source": [
        "from sklearn.naive_bayes import GaussianNB\r\n",
        "model = GaussianNB()\r\n",
        "model.fit(features,PlayTennis)\r\n",
        "predicted= model.predict([[0,1,0,0]])\r\n",
        "#Outlook untuk 0 adalah Overcast,untuk 1 adalah Rain,untuk 2 adalah Sunny\r\n",
        "#Temperature untuk 0 adalah Cool,Untuk 1 adalah Hot,untuk 2 adalah Mild\r\n",
        "#Humidity untuk 0 adalah High,Untuk 1 adalah Normal\r\n",
        "#Wind Untuk 0 adalah Strong ,Untuk 1 Adalah Weak\r\n",
        "print(\"Hasil Prediksi:\",predicted)"
      ],
      "execution_count": null,
      "outputs": [
        {
          "output_type": "stream",
          "text": [
            "Hasil Prediksi: ['Yes']\n"
          ],
          "name": "stdout"
        }
      ]
    }
  ]
}